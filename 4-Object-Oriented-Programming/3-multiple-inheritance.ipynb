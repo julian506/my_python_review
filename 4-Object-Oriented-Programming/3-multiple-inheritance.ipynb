{
 "cells": [
  {
   "cell_type": "markdown",
   "metadata": {},
   "source": [
    "## Multiple inheritance\n",
    "It's possible to define a multiple inheritance in order to have a subclass who inherits both attributes and methods from two ro more classes.\n",
    "\n",
    "To achieve this, the super classes are passed as arguments to the subclass and each of the constructors of the super classes are called inside the constructor of the subclass using the syntax `Superclass.__init__(self, ...)`"
   ]
  },
  {
   "cell_type": "code",
   "execution_count": 1,
   "metadata": {},
   "outputs": [],
   "source": [
    "class Person:\n",
    "    def __init__(self, name: str, age: int):\n",
    "        self.name: str = name\n",
    "        self.age: int = age\n",
    "        \n",
    "    def show_basic_info(self):\n",
    "        print(f'As a person, my name is {self.name} and I am {self.age} years old')\n",
    "    \n",
    "class Artist:\n",
    "    def __init__(self, ability: str):\n",
    "        self.ability: str = ability\n",
    "    \n",
    "    def show_ability(self):\n",
    "        print(f'As an artist, I have the {self.ability} ability')\n",
    "        \n",
    "class ArtistEmployee(Person, Artist):\n",
    "    def __init__(self, name: str, age: int, ability: str, salary: float, enterprise: str):\n",
    "        Person.__init__(self, name, age)\n",
    "        Artist.__init__(self, ability)\n",
    "        self.salary: float = salary\n",
    "        self.enterprise: str = enterprise\n"
   ]
  },
  {
   "cell_type": "code",
   "execution_count": 2,
   "metadata": {},
   "outputs": [],
   "source": [
    "employee = ArtistEmployee('Julián', 22, 'music', 130.5, 'Globant')"
   ]
  },
  {
   "cell_type": "code",
   "execution_count": 3,
   "metadata": {},
   "outputs": [
    {
     "name": "stdout",
     "output_type": "stream",
     "text": [
      "As a person, my name is Julián and I am 22 years old\n"
     ]
    }
   ],
   "source": [
    "employee.show_basic_info()"
   ]
  },
  {
   "cell_type": "code",
   "execution_count": 4,
   "metadata": {},
   "outputs": [
    {
     "name": "stdout",
     "output_type": "stream",
     "text": [
      "As an artist, I have the music ability\n"
     ]
    }
   ],
   "source": [
    "employee.show_ability()"
   ]
  },
  {
   "cell_type": "markdown",
   "metadata": {},
   "source": [
    "## Calling methods of the super classes inside the methods of the subclass\n",
    "\n",
    "In order to use the methods of the super classes inside the methods of the subclass, it's a good practice to use the `super().method_name()` syntax, as it will always references the methods of the superclasses and avoid possible mistakes due to the polymorphism using the `self.method_name()` syntax"
   ]
  },
  {
   "cell_type": "code",
   "execution_count": 11,
   "metadata": {},
   "outputs": [],
   "source": [
    "class Person:\n",
    "    def __init__(self, name: str, age: int):\n",
    "        self.name: str = name\n",
    "        self.age: int = age\n",
    "        \n",
    "    def show_basic_info(self):\n",
    "        return f'As a person, my name is {self.name} and I am {self.age} years old'\n",
    "    \n",
    "class Artist:\n",
    "    def __init__(self, ability: str):\n",
    "        self.ability: str = ability\n",
    "    \n",
    "    def show_ability(self):\n",
    "        return f'As an artist, I have the {self.ability} ability'\n",
    "        \n",
    "class ArtistEmployee(Person, Artist):\n",
    "    def __init__(self, name: str, age: int, ability: str, salary: float, enterprise: str):\n",
    "        Person.__init__(self, name, age)\n",
    "        Artist.__init__(self, ability)\n",
    "        self.salary: float = salary\n",
    "        self.enterprise: str = enterprise\n",
    "        \n",
    "    # Overridden method using polymorphism\n",
    "    def show_basic_info(self):\n",
    "        return f'My salary at {self.enterprise} is {self.salary}'\n",
    "        \n",
    "    # To use the parent show_basic_info_method, it-s called with super*() \n",
    "    def introduce(self) -> None:\n",
    "        print(f\"\"\"\n",
    "              Hello, {super().show_basic_info()} \n",
    "              and {super().show_ability()} \n",
    "              and {self.show_basic_info()}\n",
    "              \"\"\")\n",
    "        \n",
    "    # Another way\n",
    "    # def introduce(self) -> None:\n",
    "    #    print(f\"\"\"\n",
    "    #          Hello, {Person.show_basic_info(self)} \n",
    "    #          and {Artist.show_ability(self)} \n",
    "    #          and {self.show_basic_info()}\n",
    "    #          \"\"\")\n"
   ]
  },
  {
   "cell_type": "code",
   "execution_count": 12,
   "metadata": {},
   "outputs": [
    {
     "name": "stdout",
     "output_type": "stream",
     "text": [
      "\n",
      "              Hello, As a person, my name is Julián and I am 22 years old \n",
      "              and As an artist, I have the music ability \n",
      "              and My salary at Globant is 130.5\n",
      "              \n"
     ]
    }
   ],
   "source": [
    "employee = ArtistEmployee('Julián', 22, 'music', 130.5, 'Globant')\n",
    "employee.introduce()"
   ]
  },
  {
   "cell_type": "markdown",
   "metadata": {},
   "source": []
  },
  {
   "cell_type": "code",
   "execution_count": null,
   "metadata": {},
   "outputs": [],
   "source": []
  }
 ],
 "metadata": {
  "kernelspec": {
   "display_name": "base",
   "language": "python",
   "name": "python3"
  },
  "language_info": {
   "codemirror_mode": {
    "name": "ipython",
    "version": 3
   },
   "file_extension": ".py",
   "mimetype": "text/x-python",
   "name": "python",
   "nbconvert_exporter": "python",
   "pygments_lexer": "ipython3",
   "version": "3.11.5"
  }
 },
 "nbformat": 4,
 "nbformat_minor": 2
}
