{
 "cells": [
  {
   "cell_type": "markdown",
   "metadata": {},
   "source": [
    "## Inheritance\n",
    "In order to apply inheritance, the superclass is passed as an argument in the subclass definition, like `class Subclass(Superclass)`.\n",
    "\n",
    "To initiate the attributes inherited from the superclass, the superclass's constructor is called in the subclass constructor and the values of its attributes are passed"
   ]
  },
  {
   "cell_type": "code",
   "execution_count": 1,
   "metadata": {},
   "outputs": [],
   "source": [
    "class Animal:\n",
    "    def __init__(self, specie:str) -> None:\n",
    "        self.specie: str = specie\n",
    "        print(f\"Animal of the specie {specie} is created\")\n",
    "        \n",
    "    def whoAmI(self) -> None:\n",
    "        print('Animal')\n",
    "        \n",
    "    def eat(self) -> None:\n",
    "        print('Eating')\n",
    "        \n",
    "class Dog(Animal):\n",
    "    def __init__(self, specie: str, breed: str) -> None:\n",
    "        super().__init__(specie)\n",
    "        self.breed: str = breed\n",
    "        print(f\"Dog of the breed {breed} is created\")\n",
    "    \n",
    "    def bark(self) -> None:\n",
    "        print('Woof!')"
   ]
  },
  {
   "cell_type": "code",
   "execution_count": 2,
   "metadata": {},
   "outputs": [
    {
     "name": "stdout",
     "output_type": "stream",
     "text": [
      "Animal of the specie mammal is created\n",
      "Dog of the breed lab is created\n"
     ]
    }
   ],
   "source": [
    "dog = Dog(specie='mammal', breed='lab')"
   ]
  },
  {
   "cell_type": "markdown",
   "metadata": {},
   "source": [
    "As we can see in the next examples, all of the attributes and methods of the class Animal are being inherited by the class Dog"
   ]
  },
  {
   "cell_type": "code",
   "execution_count": 4,
   "metadata": {},
   "outputs": [
    {
     "name": "stdout",
     "output_type": "stream",
     "text": [
      "Animal\n",
      "Eating\n",
      "mammal\n"
     ]
    }
   ],
   "source": [
    "dog.whoAmI()\n",
    "dog.eat()\n",
    "print(dog.specie)"
   ]
  },
  {
   "cell_type": "markdown",
   "metadata": {},
   "source": [
    "And of course, dog has access to its own attributes and methods"
   ]
  },
  {
   "cell_type": "code",
   "execution_count": 5,
   "metadata": {},
   "outputs": [
    {
     "name": "stdout",
     "output_type": "stream",
     "text": [
      "Woof!\n",
      "lab\n"
     ]
    }
   ],
   "source": [
    "dog.bark()\n",
    "print(dog.breed)"
   ]
  },
  {
   "cell_type": "markdown",
   "metadata": {},
   "source": [
    "## Polymorphism\n",
    "The polymorphism allows to the subclasses to change its method implementations to a specific one, instead of using the general implementation of the superclass.\n",
    "\n",
    "To use polymorphism, it's enough to define a method with the same name of the method that is wanted to override from the superclass."
   ]
  },
  {
   "cell_type": "markdown",
   "metadata": {},
   "source": [
    "In the next example, the method `whoAmI` will be overridden in the subclass `Dog`, so the implementation of the class `Animal` will not be used anymore in the class `Dog` when this method is called"
   ]
  },
  {
   "cell_type": "code",
   "execution_count": 6,
   "metadata": {},
   "outputs": [],
   "source": [
    "class Animal:\n",
    "    def __init__(self, specie:str) -> None:\n",
    "        self.specie: str = specie\n",
    "        print(f\"Animal of the specie {specie} is created\")\n",
    "        \n",
    "    def whoAmI(self) -> None:\n",
    "        print('Animal')\n",
    "        \n",
    "    def eat(self) -> None:\n",
    "        print('Eating')\n",
    "        \n",
    "class Dog(Animal):\n",
    "    def __init__(self, specie: str, breed: str) -> None:\n",
    "        super().__init__(specie)\n",
    "        self.breed: str = breed\n",
    "        print(f\"Dog of the breed {breed} is created\")\n",
    "    \n",
    "    def bark(self) -> None:\n",
    "        print('Woof!')\n",
    "        \n",
    "    # Overridden method using polymorphism\n",
    "    def whoAmI(self) -> None:\n",
    "        print('Dog from overridden method')"
   ]
  },
  {
   "cell_type": "code",
   "execution_count": 7,
   "metadata": {},
   "outputs": [
    {
     "name": "stdout",
     "output_type": "stream",
     "text": [
      "Animal of the specie mammal is created\n",
      "Dog of the breed lab is created\n"
     ]
    }
   ],
   "source": [
    "dog = Dog(specie='mammal', breed='lab')"
   ]
  },
  {
   "cell_type": "markdown",
   "metadata": {},
   "source": [
    "Now, if we call the method `dog.whoAmI()`, the method used will be the one implemented in the `Dog` class and not the one in the `Animal` class"
   ]
  },
  {
   "cell_type": "code",
   "execution_count": 8,
   "metadata": {},
   "outputs": [
    {
     "name": "stdout",
     "output_type": "stream",
     "text": [
      "Dog from overridden method\n"
     ]
    }
   ],
   "source": [
    "dog.whoAmI()"
   ]
  }
 ],
 "metadata": {
  "kernelspec": {
   "display_name": "base",
   "language": "python",
   "name": "python3"
  },
  "language_info": {
   "codemirror_mode": {
    "name": "ipython",
    "version": 3
   },
   "file_extension": ".py",
   "mimetype": "text/x-python",
   "name": "python",
   "nbconvert_exporter": "python",
   "pygments_lexer": "ipython3",
   "version": "3.11.5"
  }
 },
 "nbformat": 4,
 "nbformat_minor": 2
}
