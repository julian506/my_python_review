{
 "cells": [
  {
   "cell_type": "markdown",
   "metadata": {},
   "source": [
    "## Decorators\n",
    "A decorator is a function which applies extra functionality to another function before, after or before and after executing it. For the getters and setters, Python provides the decorators `@property` y `@attribute.set`"
   ]
  },
  {
   "cell_type": "markdown",
   "metadata": {},
   "source": [
    "## Getters\n",
    "To define a getter, the decorator `@property` allows to use a getter function as an attribute, instead of using it as a method"
   ]
  },
  {
   "cell_type": "code",
   "execution_count": 4,
   "metadata": {},
   "outputs": [],
   "source": [
    "class Person:\n",
    "    def __init__(self, name: str, age: int) -> None:\n",
    "        self.name: str= name ## Public member\n",
    "        self.__age: int = age ## Private member\n",
    "        \n",
    "    ## Private member\n",
    "    def __calculate_approximate_born_year(self) -> int:\n",
    "        return 2024 - self.__age\n",
    "    \n",
    "    @property\n",
    "    def age(self) -> int:\n",
    "        return self.__age\n",
    "    \n",
    "    def set_age(self, new_age: int) -> None:\n",
    "        try:\n",
    "            self.__age = int(new_age)\n",
    "        except ValueError:\n",
    "            print(\"Error. The given age can't be casted into integer\")\n",
    "        \n",
    "    def introduce(self) -> None:\n",
    "        approximate_born_year: int = self.__calculate_approximate_born_year()\n",
    "        print(f'My name is {self.name} and I was born approximately in the year {approximate_born_year}')\n",
    "        \n",
    "p = Person(name='Julián', age=22)"
   ]
  },
  {
   "cell_type": "code",
   "execution_count": 5,
   "metadata": {},
   "outputs": [
    {
     "data": {
      "text/plain": [
       "22"
      ]
     },
     "execution_count": 5,
     "metadata": {},
     "output_type": "execute_result"
    }
   ],
   "source": [
    "p.age"
   ]
  },
  {
   "cell_type": "markdown",
   "metadata": {},
   "source": [
    "## Setters\n",
    "As like the getters, the setters are defined using the `@attribute_name.setter` and it will allow us to assign a new value to the attribute as if it's not a private attribute"
   ]
  },
  {
   "cell_type": "code",
   "execution_count": 7,
   "metadata": {},
   "outputs": [],
   "source": [
    "class Person:\n",
    "    def __init__(self, name: str, age: int) -> None:\n",
    "        self.name: str= name ## Public member\n",
    "        self.__age: int = age ## Private member\n",
    "        \n",
    "    ## Private member\n",
    "    def __calculate_approximate_born_year(self) -> int:\n",
    "        return 2024 - self.__age\n",
    "    \n",
    "    @property\n",
    "    def age(self) -> int:\n",
    "        return self.__age\n",
    "    \n",
    "    @age.setter\n",
    "    def age(self, new_age: int) -> None:\n",
    "        try:\n",
    "            self.__age = int(new_age)\n",
    "        except ValueError:\n",
    "            print(\"Error. The given age can't be casted into integer\")\n",
    "        \n",
    "    def introduce(self) -> None:\n",
    "        approximate_born_year: int = self.__calculate_approximate_born_year()\n",
    "        print(f'My name is {self.name} and I was born approximately in the year {approximate_born_year}')\n",
    "        \n",
    "p = Person(name='Julián', age=22)"
   ]
  },
  {
   "cell_type": "code",
   "execution_count": 8,
   "metadata": {},
   "outputs": [
    {
     "data": {
      "text/plain": [
       "22"
      ]
     },
     "execution_count": 8,
     "metadata": {},
     "output_type": "execute_result"
    }
   ],
   "source": [
    "p.age"
   ]
  },
  {
   "cell_type": "code",
   "execution_count": 9,
   "metadata": {},
   "outputs": [],
   "source": [
    "p.age = 23"
   ]
  },
  {
   "cell_type": "code",
   "execution_count": 10,
   "metadata": {},
   "outputs": [
    {
     "data": {
      "text/plain": [
       "23"
      ]
     },
     "execution_count": 10,
     "metadata": {},
     "output_type": "execute_result"
    }
   ],
   "source": [
    "p.age"
   ]
  },
  {
   "cell_type": "code",
   "execution_count": 11,
   "metadata": {},
   "outputs": [
    {
     "name": "stdout",
     "output_type": "stream",
     "text": [
      "Error. The given age can't be casted into integer\n"
     ]
    }
   ],
   "source": [
    "p.age = 'veintidos'"
   ]
  },
  {
   "cell_type": "markdown",
   "metadata": {},
   "source": [
    "## Deleter\n",
    "In case there's needed to delete an attribute, it's possible to set a deleter in order to achieve this, using the `@attribute_name.deleter` decorator"
   ]
  },
  {
   "cell_type": "code",
   "execution_count": 1,
   "metadata": {},
   "outputs": [],
   "source": [
    "class Person:\n",
    "    def __init__(self, name: str, age: int) -> None:\n",
    "        self.name: str= name ## Public member\n",
    "        self.__age: int = age ## Private member\n",
    "        \n",
    "    ## Private member\n",
    "    def __calculate_approximate_born_year(self) -> int:\n",
    "        return 2024 - self.__age\n",
    "    \n",
    "    @property\n",
    "    def age(self) -> int:\n",
    "        return self.__age\n",
    "    \n",
    "    @age.setter\n",
    "    def age(self, new_age: int) -> None:\n",
    "        try:\n",
    "            self.__age = int(new_age)\n",
    "        except ValueError:\n",
    "            print(\"Error. The given age can't be casted into integer\")\n",
    "\n",
    "    @age.deleter\n",
    "    def age(self) -> None:\n",
    "        del self.age\n",
    "        \n",
    "    def introduce(self) -> None:\n",
    "        approximate_born_year: int = self.__calculate_approximate_born_year()\n",
    "        print(f'My name is {self.name} and I was born approximately in the year {approximate_born_year}')\n",
    "        \n",
    "p = Person(name='Julián', age=22)"
   ]
  },
  {
   "cell_type": "code",
   "execution_count": 2,
   "metadata": {},
   "outputs": [
    {
     "data": {
      "text/plain": [
       "22"
      ]
     },
     "execution_count": 2,
     "metadata": {},
     "output_type": "execute_result"
    }
   ],
   "source": [
    "p.age"
   ]
  },
  {
   "cell_type": "code",
   "execution_count": null,
   "metadata": {},
   "outputs": [],
   "source": [
    "del p.age"
   ]
  }
 ],
 "metadata": {
  "kernelspec": {
   "display_name": "base",
   "language": "python",
   "name": "python3"
  },
  "language_info": {
   "codemirror_mode": {
    "name": "ipython",
    "version": 3
   },
   "file_extension": ".py",
   "mimetype": "text/x-python",
   "name": "python",
   "nbconvert_exporter": "python",
   "pygments_lexer": "ipython3",
   "version": "3.11.5"
  }
 },
 "nbformat": 4,
 "nbformat_minor": 2
}
