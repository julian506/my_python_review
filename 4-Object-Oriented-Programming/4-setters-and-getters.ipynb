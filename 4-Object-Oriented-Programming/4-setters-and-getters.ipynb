{
 "cells": [
  {
   "cell_type": "markdown",
   "metadata": {},
   "source": [
    "## Public and private members\n",
    "A public member can be accessed inside and outside of the class. Those members are used to define the attributes and methods that the user of a class can really use, and helps to abstract the class.\n",
    "\n",
    "On the other hand, a private member are members that can only be accessed from inside the class. This helps to define support methods for the public methods for abstraction purposes and also allows to encapsulate the attributes of a class using getters and setters."
   ]
  },
  {
   "cell_type": "markdown",
   "metadata": {},
   "source": [
    "### Defining public and private members\n",
    "A public member is defined using the syntax `self.attribute` in the constructor if is an attribute, or using the `def method():` syntax for a method.\n",
    "\n",
    "A private member is defined using a double underscore before the name of the attribute with the syntax `self.__attribute`, or using `def __method():` syntax for a method."
   ]
  },
  {
   "cell_type": "code",
   "execution_count": 1,
   "metadata": {},
   "outputs": [
    {
     "name": "stdout",
     "output_type": "stream",
     "text": [
      "My name is Julián and I was born approximately in the year 2002\n"
     ]
    }
   ],
   "source": [
    "class Person:\n",
    "    def __init__(self, name: str, age: int) -> None:\n",
    "        self.name: str= name ## Public member\n",
    "        self.__age: int = age\n",
    "        \n",
    "    def __calculate_approximate_born_year(self) -> int:\n",
    "        return 2024 - self.__age\n",
    "    \n",
    "    def introduce(self) -> None:\n",
    "        approximate_born_year: int = self.__calculate_approximate_born_year()\n",
    "        print(f'My name is {self.name} and I was born approximately in the year {approximate_born_year}')\n",
    "        \n",
    "p = Person(name='Julián', age=22)\n",
    "p.introduce()"
   ]
  },
  {
   "cell_type": "code",
   "execution_count": 4,
   "metadata": {},
   "outputs": [
    {
     "ename": "AttributeError",
     "evalue": "'Person' object has no attribute '__age'",
     "output_type": "error",
     "traceback": [
      "\u001b[1;31m---------------------------------------------------------------------------\u001b[0m",
      "\u001b[1;31mAttributeError\u001b[0m                            Traceback (most recent call last)",
      "Cell \u001b[1;32mIn[4], line 1\u001b[0m\n\u001b[1;32m----> 1\u001b[0m p\u001b[38;5;241m.\u001b[39m__age\n",
      "\u001b[1;31mAttributeError\u001b[0m: 'Person' object has no attribute '__age'"
     ]
    }
   ],
   "source": [
    "p.__age"
   ]
  },
  {
   "cell_type": "code",
   "execution_count": 2,
   "metadata": {},
   "outputs": [
    {
     "ename": "AttributeError",
     "evalue": "'Person' object has no attribute '__calculate_approximate_born_year'",
     "output_type": "error",
     "traceback": [
      "\u001b[1;31m---------------------------------------------------------------------------\u001b[0m",
      "\u001b[1;31mAttributeError\u001b[0m                            Traceback (most recent call last)",
      "Cell \u001b[1;32mIn[2], line 1\u001b[0m\n\u001b[1;32m----> 1\u001b[0m p\u001b[38;5;241m.\u001b[39m__calculate_approximate_born_year()\n",
      "\u001b[1;31mAttributeError\u001b[0m: 'Person' object has no attribute '__calculate_approximate_born_year'"
     ]
    }
   ],
   "source": [
    "p.__calculate_approximate_born_year()"
   ]
  },
  {
   "cell_type": "markdown",
   "metadata": {},
   "source": [
    "## Getters\n",
    "A getter is defined in order to allow the access to a private attribute of the class."
   ]
  },
  {
   "cell_type": "code",
   "execution_count": 3,
   "metadata": {},
   "outputs": [
    {
     "data": {
      "text/plain": [
       "22"
      ]
     },
     "execution_count": 3,
     "metadata": {},
     "output_type": "execute_result"
    }
   ],
   "source": [
    "class Person:\n",
    "    def __init__(self, name: str, age: int) -> None:\n",
    "        self.name: str= name ## Public member\n",
    "        self.__age: int = age\n",
    "        \n",
    "    def __calculate_approximate_born_year(self) -> int:\n",
    "        return 2024 - self.__age\n",
    "    \n",
    "    def get_age(self) -> int:\n",
    "        return self.__age\n",
    "    \n",
    "    def introduce(self) -> None:\n",
    "        approximate_born_year: int = self.__calculate_approximate_born_year()\n",
    "        print(f'My name is {self.name} and I was born approximately in the year {approximate_born_year}')\n",
    "        \n",
    "p = Person(name='Julián', age=22)\n",
    "p.get_age()"
   ]
  },
  {
   "cell_type": "markdown",
   "metadata": {},
   "source": [
    "## Setters\n",
    "A setter is the way to create a method which allows to modify the value of a private attribute. The setters have the advantage of allow to perform validations before updating the value of the attribute."
   ]
  },
  {
   "cell_type": "code",
   "execution_count": 21,
   "metadata": {},
   "outputs": [],
   "source": [
    "class Person:\n",
    "    def __init__(self, name: str, age: int) -> None:\n",
    "        self.name: str= name ## Public member\n",
    "        self.__age: int = age ## Private member\n",
    "        \n",
    "    ## Private member\n",
    "    def __calculate_approximate_born_year(self) -> int:\n",
    "        return 2024 - self.__age\n",
    "    \n",
    "    def get_age(self) -> int:\n",
    "        return self.__age\n",
    "    \n",
    "    def set_age(self, new_age: int) -> None:\n",
    "        try:\n",
    "            self.__age = int(new_age)\n",
    "        except ValueError:\n",
    "            print(\"Error. The given age can't be casted into integer\")\n",
    "        \n",
    "    def introduce(self) -> None:\n",
    "        approximate_born_year: int = self.__calculate_approximate_born_year()\n",
    "        print(f'My name is {self.name} and I was born approximately in the year {approximate_born_year}')\n",
    "        \n",
    "p = Person(name='Julián', age=22)"
   ]
  },
  {
   "cell_type": "code",
   "execution_count": 22,
   "metadata": {},
   "outputs": [],
   "source": [
    "p.set_age(23)"
   ]
  },
  {
   "cell_type": "code",
   "execution_count": 23,
   "metadata": {},
   "outputs": [
    {
     "data": {
      "text/plain": [
       "23"
      ]
     },
     "execution_count": 23,
     "metadata": {},
     "output_type": "execute_result"
    }
   ],
   "source": [
    "p.get_age()"
   ]
  },
  {
   "cell_type": "code",
   "execution_count": 24,
   "metadata": {},
   "outputs": [
    {
     "name": "stdout",
     "output_type": "stream",
     "text": [
      "Error. The given age can't be casted into integer\n"
     ]
    }
   ],
   "source": [
    "p.set_age('veintidos')"
   ]
  },
  {
   "cell_type": "code",
   "execution_count": null,
   "metadata": {},
   "outputs": [],
   "source": []
  }
 ],
 "metadata": {
  "kernelspec": {
   "display_name": "base",
   "language": "python",
   "name": "python3"
  },
  "language_info": {
   "codemirror_mode": {
    "name": "ipython",
    "version": 3
   },
   "file_extension": ".py",
   "mimetype": "text/x-python",
   "name": "python",
   "nbconvert_exporter": "python",
   "pygments_lexer": "ipython3",
   "version": "3.11.5"
  }
 },
 "nbformat": 4,
 "nbformat_minor": 2
}
