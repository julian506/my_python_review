{
 "cells": [
  {
   "cell_type": "markdown",
   "metadata": {},
   "source": [
    "## How to create a format string\n",
    "A format string is a string with the char `f` before the quotation marks of the string. Uses curly braces to show the content of a variable."
   ]
  },
  {
   "cell_type": "code",
   "execution_count": 1,
   "metadata": {},
   "outputs": [
    {
     "data": {
      "text/plain": [
       "\"Julian's age is 22 years\""
      ]
     },
     "execution_count": 1,
     "metadata": {},
     "output_type": "execute_result"
    }
   ],
   "source": [
    "my_age = 22\n",
    "string = f\"Julian's age is {my_age} years\"\n",
    "string"
   ]
  },
  {
   "cell_type": "markdown",
   "metadata": {},
   "source": [
    "## How to pass the string representation\n",
    "The string representation is the string stored in a variable as it is, including the quotation marks and the scaped characters like `\\n` or `\\t`.\n",
    "\n",
    "To show the string representation of a string, its passed the `!r` flag before the end of the curly braces containing the variable with the string"
   ]
  },
  {
   "cell_type": "code",
   "execution_count": 4,
   "metadata": {},
   "outputs": [
    {
     "name": "stdout",
     "output_type": "stream",
     "text": [
      "The name is: Julián\tPachón\tCastrillón\n",
      "End.\n",
      "\n",
      "The string with string representation is: 'Julián\\tPachón\\tCastrillón\\nEnd.\\n'\n"
     ]
    }
   ],
   "source": [
    "string = 'Julián\\tPachón\\tCastrillón\\nEnd.\\n'\n",
    "print(f'The name is: {string}')\n",
    "print(f'The string with string representation is: {string!r}')"
   ]
  },
  {
   "cell_type": "markdown",
   "metadata": {},
   "source": [
    "## Float formating options\n",
    "To format a float value it's used the `float_value:5.2f` format, where `5` is the minimum number of characters of the number and where `.2f` is the number of digits after the decimal point."
   ]
  },
  {
   "cell_type": "markdown",
   "metadata": {},
   "source": []
  },
  {
   "cell_type": "code",
   "execution_count": 7,
   "metadata": {},
   "outputs": [
    {
     "name": "stdout",
     "output_type": "stream",
     "text": [
      "The value is: 132.457\n",
      "The value is: 132.4567000000\n"
     ]
    }
   ],
   "source": [
    "value = 132.4567\n",
    "print(f'The value is: {value:4.3f}')\n",
    "print(f'The value is: {value:10.10f}')\n"
   ]
  }
 ],
 "metadata": {
  "kernelspec": {
   "display_name": "base",
   "language": "python",
   "name": "python3"
  },
  "language_info": {
   "codemirror_mode": {
    "name": "ipython",
    "version": 3
   },
   "file_extension": ".py",
   "mimetype": "text/x-python",
   "name": "python",
   "nbconvert_exporter": "python",
   "pygments_lexer": "ipython3",
   "version": "3.11.5"
  }
 },
 "nbformat": 4,
 "nbformat_minor": 2
}
