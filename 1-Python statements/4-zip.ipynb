{
 "cells": [
  {
   "cell_type": "markdown",
   "metadata": {},
   "source": [
    "## Zip\n",
    "The zip function allows to join lists into a single list where each element is a tuple with the elements of each of the joined arrays in each position"
   ]
  },
  {
   "cell_type": "code",
   "execution_count": 2,
   "metadata": {},
   "outputs": [
    {
     "data": {
      "text/plain": [
       "[(1, 'a', 5), (2, 'b', 4), (3, 'c', 3), (4, 'd', 2), (5, 'e', 1)]"
      ]
     },
     "execution_count": 2,
     "metadata": {},
     "output_type": "execute_result"
    }
   ],
   "source": [
    "list1: list[int] = [1, 2, 3, 4, 5]\n",
    "list2: list[str] = list('abcde')\n",
    "list3: list[int] = [5, 4, 3, 2, 1]\n",
    "\n",
    "list(zip(list1, list2, list3))"
   ]
  },
  {
   "cell_type": "markdown",
   "metadata": {},
   "source": [
    "The lists can also be of different size, and the tuples are created until the last element of the shortest list is added to a tuple\n",
    "\n",
    "**Notice that in this example, the tuples will be created until the index 3 because that's the last index of list2, the shortest list**"
   ]
  },
  {
   "cell_type": "code",
   "execution_count": 3,
   "metadata": {},
   "outputs": [
    {
     "data": {
      "text/plain": [
       "[(1, 'a', 5), (2, 'b', 4), (3, 'c', 3), (4, 'd', 2)]"
      ]
     },
     "execution_count": 3,
     "metadata": {},
     "output_type": "execute_result"
    }
   ],
   "source": [
    "list1: list[int] = [1, 2, 3, 4, 5]\n",
    "list2: list[str] = list('abcd')\n",
    "list3: list[int] = [5, 4, 3, 2, 1]\n",
    "list(zip(list1, list2, list3))\n"
   ]
  }
 ],
 "metadata": {
  "kernelspec": {
   "display_name": "base",
   "language": "python",
   "name": "python3"
  },
  "language_info": {
   "codemirror_mode": {
    "name": "ipython",
    "version": 3
   },
   "file_extension": ".py",
   "mimetype": "text/x-python",
   "name": "python",
   "nbconvert_exporter": "python",
   "pygments_lexer": "ipython3",
   "version": "3.11.5"
  }
 },
 "nbformat": 4,
 "nbformat_minor": 2
}
